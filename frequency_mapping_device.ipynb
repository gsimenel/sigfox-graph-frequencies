{
 "cells": [
  {
   "cell_type": "markdown",
   "metadata": {},
   "source": [
    "**You need a plotly account.**\n",
    "Create one, create an API key and run the following command to set your username/password in your home directory : \n",
    "\n",
    "    import plotly\n",
    "    plotly.tools.set_credentials_file(username='DemoAccount', api_key='lr1c37zw81')\n",
    "\n",
    "Or check https://plot.ly/python/getting-started/ \n",
    "\n",
    "**You need to create an api.conf file for your Sigfox backend credentials (see .example file)**"
   ]
  },
  {
   "cell_type": "code",
   "execution_count": 1,
   "metadata": {},
   "outputs": [],
   "source": [
    "import json\n",
    "import datetime\n",
    "import sys\n",
    "import pandas as pd\n",
    "import requests\n",
    "import plotly.graph_objs as go"
   ]
  },
  {
   "cell_type": "code",
   "execution_count": 2,
   "metadata": {},
   "outputs": [],
   "source": [
    "from plotly.offline import download_plotlyjs, init_notebook_mode, plot, iplot"
   ]
  },
  {
   "cell_type": "code",
   "execution_count": 3,
   "metadata": {},
   "outputs": [],
   "source": [
    "from requests.auth import HTTPBasicAuth"
   ]
  },
  {
   "cell_type": "code",
   "execution_count": 4,
   "metadata": {},
   "outputs": [
    {
     "data": {
      "text/html": [
       "<script>requirejs.config({paths: { 'plotly': ['https://cdn.plot.ly/plotly-latest.min']},});if(!window.Plotly) {{require(['plotly'],function(plotly) {window.Plotly=plotly;});}}</script>"
      ],
      "text/vnd.plotly.v1+html": [
       "<script>requirejs.config({paths: { 'plotly': ['https://cdn.plot.ly/plotly-latest.min']},});if(!window.Plotly) {{require(['plotly'],function(plotly) {window.Plotly=plotly;});}}</script>"
      ]
     },
     "metadata": {},
     "output_type": "display_data"
    }
   ],
   "source": [
    "init_notebook_mode(connected=True)"
   ]
  },
  {
   "cell_type": "markdown",
   "metadata": {},
   "source": [
    "**Set your variables**"
   ]
  },
  {
   "cell_type": "code",
   "execution_count": 5,
   "metadata": {},
   "outputs": [],
   "source": [
    "# Read the API Login/password from api.conf file\n",
    "with open('api.conf') as f:\n",
    "    try:\n",
    "        data = json.load(f)\n",
    "        if 'APILogin' in data:\n",
    "            APILogin = data['APILogin']\n",
    "        if 'APIPassword' in data:\n",
    "            APIPassword = data['APIPassword']\n",
    "    except Exception as e: print(e)"
   ]
  },
  {
   "cell_type": "code",
   "execution_count": 6,
   "metadata": {},
   "outputs": [
    {
     "name": "stdout",
     "output_type": "stream",
     "text": [
      "RC3a\n"
     ]
    }
   ],
   "source": [
    "#Choose from RC1, RC2, RC3a, RC3c, RC4, RC5, RC6\n",
    "RC = input()"
   ]
  },
  {
   "cell_type": "code",
   "execution_count": 7,
   "metadata": {},
   "outputs": [
    {
     "name": "stdout",
     "output_type": "stream",
     "text": [
      "73A19C\n"
     ]
    }
   ],
   "source": [
    "deviceID = input()"
   ]
  },
  {
   "cell_type": "code",
   "execution_count": 25,
   "metadata": {},
   "outputs": [],
   "source": [
    "# datetime(year, month, day, hour, minute, second)\n",
    "fromDate = datetime.datetime(2017,5,20,0,0,0) #1st Jan 2011 at 0:00am"
   ]
  },
  {
   "cell_type": "code",
   "execution_count": 26,
   "metadata": {},
   "outputs": [],
   "source": [
    "# you can use datetime.datetime.now() or datetime.datetime(year, month, day, hour, minute, second)\n",
    "toDate = datetime.datetime.now() #1st Jan 2011 at 0:00am"
   ]
  },
  {
   "cell_type": "markdown",
   "metadata": {},
   "source": [
    "**Get Data, parse it and Graph it**"
   ]
  },
  {
   "cell_type": "code",
   "execution_count": 27,
   "metadata": {},
   "outputs": [],
   "source": [
    "fromDateTS = int((fromDate - datetime.datetime(1970, 1, 1))/datetime.timedelta(seconds=1))"
   ]
  },
  {
   "cell_type": "code",
   "execution_count": 28,
   "metadata": {},
   "outputs": [],
   "source": [
    "toDateTS = int((toDate - datetime.datetime(1970, 1, 1))/datetime.timedelta(seconds=1))"
   ]
  },
  {
   "cell_type": "code",
   "execution_count": 29,
   "metadata": {},
   "outputs": [],
   "source": [
    "minRSSI = -143.0"
   ]
  },
  {
   "cell_type": "code",
   "execution_count": 30,
   "metadata": {},
   "outputs": [],
   "source": [
    "maxRSSI = 0.0"
   ]
  },
  {
   "cell_type": "code",
   "execution_count": 31,
   "metadata": {},
   "outputs": [],
   "source": [
    "df = pd.DataFrame()"
   ]
  },
  {
   "cell_type": "code",
   "execution_count": 32,
   "metadata": {},
   "outputs": [],
   "source": [
    "url=\"https://backend.sigfox.com/api/devices/\"+deviceID+\"/messages?since=\"+str(fromDateTS)+\"&before=\"+str(toDateTS)"
   ]
  },
  {
   "cell_type": "code",
   "execution_count": 33,
   "metadata": {},
   "outputs": [
    {
     "name": "stdout",
     "output_type": "stream",
     "text": [
      "Fetching messages from :https://backend.sigfox.com/api/devices/73A19C/messages?since=1495238400&before=1527517605\n"
     ]
    }
   ],
   "source": [
    "while url:\n",
    "    print(\"Fetching messages from :\"+url)\n",
    "\n",
    "    # Call the Backend for messages\n",
    "    try:\n",
    "        r = requests.get(url, auth=HTTPBasicAuth(APILogin, APIPassword))\n",
    "        r.raise_for_status()\n",
    "    except requests.exceptions.RequestException as e:  # This is the correct syntax\n",
    "        print(e)\n",
    "        sys.exit(1)\n",
    "    except requests.exceptions.HTTPError as e:\n",
    "        print(e)\n",
    "        sys.exit(1)\n",
    "    \n",
    "    # Load the json\n",
    "    jData = json.loads(r.content)\n",
    "    #print(jData)\n",
    "    \n",
    "    # go through all messages in Data and take the \n",
    "    for msg in jData['data']:\n",
    "        for rep in msg['rinfos']:\n",
    "            df2 = pd.DataFrame( [[rep['tap'], rep['freq'], rep['rssi'],rep['delay']]], columns=['tap','freq','rssi','delay'])\n",
    "            df = df.append(df2)\n",
    "            maxRSSI = min(maxRSSI, float(rep['rssi']))\n",
    "            minRSSI = max(minRSSI, float(rep['rssi']))\n",
    "        \n",
    "    # If the backend indicates that there is more data in Paging \n",
    "    if 'next' in jData['paging']:\n",
    "        url = jData['paging']['next']\n",
    "    else:\n",
    "        url = False"
   ]
  },
  {
   "cell_type": "code",
   "execution_count": 34,
   "metadata": {},
   "outputs": [
    {
     "data": {
      "text/html": [
       "<div>\n",
       "<style scoped>\n",
       "    .dataframe tbody tr th:only-of-type {\n",
       "        vertical-align: middle;\n",
       "    }\n",
       "\n",
       "    .dataframe tbody tr th {\n",
       "        vertical-align: top;\n",
       "    }\n",
       "\n",
       "    .dataframe thead th {\n",
       "        text-align: right;\n",
       "    }\n",
       "</style>\n",
       "<table border=\"1\" class=\"dataframe\">\n",
       "  <thead>\n",
       "    <tr style=\"text-align: right;\">\n",
       "      <th></th>\n",
       "      <th>tap</th>\n",
       "      <th>freq</th>\n",
       "      <th>rssi</th>\n",
       "      <th>delay</th>\n",
       "    </tr>\n",
       "  </thead>\n",
       "  <tbody>\n",
       "    <tr>\n",
       "      <th>0</th>\n",
       "      <td>8F00</td>\n",
       "      <td>923189534</td>\n",
       "      <td>-128.00</td>\n",
       "      <td>4.329</td>\n",
       "    </tr>\n",
       "    <tr>\n",
       "      <th>0</th>\n",
       "      <td>8A22</td>\n",
       "      <td>923184075</td>\n",
       "      <td>-132.00</td>\n",
       "      <td>3.273</td>\n",
       "    </tr>\n",
       "    <tr>\n",
       "      <th>0</th>\n",
       "      <td>9B2D</td>\n",
       "      <td>923184448</td>\n",
       "      <td>-135.00</td>\n",
       "      <td>4.836</td>\n",
       "    </tr>\n",
       "    <tr>\n",
       "      <th>0</th>\n",
       "      <td>8A22</td>\n",
       "      <td>923189177</td>\n",
       "      <td>-133.00</td>\n",
       "      <td>3.563</td>\n",
       "    </tr>\n",
       "    <tr>\n",
       "      <th>0</th>\n",
       "      <td>9B2D</td>\n",
       "      <td>923189526</td>\n",
       "      <td>-134.00</td>\n",
       "      <td>4.636</td>\n",
       "    </tr>\n",
       "  </tbody>\n",
       "</table>\n",
       "</div>"
      ],
      "text/plain": [
       "    tap       freq     rssi  delay\n",
       "0  8F00  923189534  -128.00  4.329\n",
       "0  8A22  923184075  -132.00  3.273\n",
       "0  9B2D  923184448  -135.00  4.836\n",
       "0  8A22  923189177  -133.00  3.563\n",
       "0  9B2D  923189526  -134.00  4.636"
      ]
     },
     "execution_count": 34,
     "metadata": {},
     "output_type": "execute_result"
    }
   ],
   "source": [
    "df.head()"
   ]
  },
  {
   "cell_type": "code",
   "execution_count": 35,
   "metadata": {},
   "outputs": [],
   "source": [
    "taps = df.loc[ df['tap'].duplicated() == False].tap"
   ]
  },
  {
   "cell_type": "code",
   "execution_count": 36,
   "metadata": {},
   "outputs": [],
   "source": [
    "dataGraph = []"
   ]
  },
  {
   "cell_type": "code",
   "execution_count": 37,
   "metadata": {},
   "outputs": [],
   "source": [
    "for i, tap in enumerate(taps):\n",
    "    tapG = df.loc[ df['tap'] == tap]\n",
    "    #print(tapG[['freq','rssi']])\n",
    "    graph = go.Scatter(\n",
    "        x = tapG['freq'],\n",
    "        y = tapG['rssi'],\n",
    "        mode = 'markers',\n",
    "        name = tap)\n",
    "    dataGraph.append(graph)"
   ]
  },
  {
   "cell_type": "code",
   "execution_count": 38,
   "metadata": {},
   "outputs": [],
   "source": [
    "def RCdef(x):\n",
    "    return {\n",
    "        'RC1': {'minFreq' : 868034000, 'maxFreq' : 868226000, 'centralFreq' : 868130000},\n",
    "        'RC2': {'minFreq' : 902104000, 'maxFreq' : 902296000, 'centralFreq' : 902200000},\n",
    "        'RC3a': {'minFreq' : 923182000, 'maxFreq' : 923218000, 'centralFreq' : 923200000},\n",
    "        'RC3c': {'minFreq' : 923104000, 'maxFreq' : 923296000, 'centralFreq' : 923200000},\n",
    "        'RC4': {'minFreq' : 920704000, 'maxFreq' : 920896000, 'centralFreq' : 920800000},\n",
    "        'RC5': {'minFreq' : 923204000, 'maxFreq' : 923296000, 'centralFreq' : 923250000},\n",
    "        'RC6': {'minFreq' : 865104000, 'maxFreq' : 865296000, 'centralFreq' : 865200000}\n",
    "    }.get(x, {'minFreq' : 868034000, 'maxFreq' : 868226000, 'centralFreq' : 868130000}) "
   ]
  },
  {
   "cell_type": "code",
   "execution_count": 39,
   "metadata": {},
   "outputs": [],
   "source": [
    "layout = go.Layout({\n",
    "    'xaxis': dict(range=[RCdef(RC)['minFreq'],RCdef(RC)['maxFreq']]),\n",
    "    'shapes': [\n",
    "        # Line Vertical\n",
    "        {\n",
    "            'type': 'line',\n",
    "            'x0': RCdef(RC)['centralFreq'],\n",
    "            'y0': minRSSI + 5,\n",
    "            'x1': RCdef(RC)['centralFreq'],\n",
    "            'y1': maxRSSI- 5,\n",
    "            'line': {\n",
    "                'color': 'rgb(55, 128, 191)',\n",
    "                'width': 1,\n",
    "            },\n",
    "        }\n",
    "    ]\n",
    "}\n",
    ")"
   ]
  },
  {
   "cell_type": "code",
   "execution_count": 40,
   "metadata": {},
   "outputs": [],
   "source": [
    "fig = go.Figure(data=dataGraph, layout=layout)"
   ]
  },
  {
   "cell_type": "code",
   "execution_count": 41,
   "metadata": {},
   "outputs": [
    {
     "data": {
      "application/vnd.plotly.v1+json": {
       "data": [
        {
         "mode": "markers",
         "name": "8F00",
         "type": "scatter",
         "x": [
          923189534,
          923195175,
          923190512,
          923208013,
          923199279,
          923208044,
          923206287,
          923213116,
          923204808,
          923201882,
          923194609,
          923206243,
          923196130,
          923194539,
          923197699,
          923194049,
          923205606,
          923187645,
          923198717,
          923208892,
          923201276,
          923182718,
          923212666,
          923202161,
          923196556,
          923193616,
          923207326,
          923205022,
          923189288,
          923210820,
          923202794,
          923205847,
          923202160,
          923206948,
          923206346,
          923212645
         ],
         "y": [
          "-128.00",
          "-131.00",
          "-131.00",
          "-132.00",
          "-129.00",
          "-132.00",
          "-129.00",
          "-129.00",
          "-129.00",
          "-133.00",
          "-134.00",
          "-130.00",
          "-133.00",
          "-130.00",
          "-131.00",
          "-130.00",
          "-131.00",
          "-128.00",
          "-132.00",
          "-132.00",
          "-133.00",
          "-132.00",
          "-131.00",
          "-129.00",
          "-129.00",
          "-131.00",
          "-130.00",
          "-133.00",
          "-130.00",
          "-132.00",
          "-132.00",
          "-132.00",
          "-133.00",
          "-132.00",
          "-130.00",
          "-133.00"
         ]
        },
        {
         "mode": "markers",
         "name": "8A22",
         "type": "scatter",
         "x": [
          923184075,
          923189177,
          923191053,
          923195630,
          923205819,
          923188475,
          923188953,
          923212893,
          923207669,
          923205340,
          923208454,
          923195103,
          923206762,
          923198627,
          923195130,
          923203802,
          923202744,
          923204203,
          923206387,
          923199268,
          923202102,
          923183309,
          923202703,
          923189884,
          923194170,
          923207846,
          923217384,
          923206445,
          923202720,
          923207629,
          923207027,
          923201331
         ],
         "y": [
          "-132.00",
          "-133.00",
          "-132.00",
          "-133.00",
          "-133.00",
          "-134.00",
          "-131.00",
          "-132.00",
          "-136.00",
          "-137.00",
          "-131.00",
          "-134.00",
          "-130.00",
          "-132.00",
          "-132.00",
          "-132.00",
          "-131.00",
          "-131.00",
          "-132.00",
          "-134.00",
          "-133.00",
          "-131.00",
          "-133.00",
          "-132.00",
          "-133.00",
          "-133.00",
          "-135.00",
          "-134.00",
          "-132.00",
          "-132.00",
          "-130.00",
          "-133.00"
         ]
        },
        {
         "mode": "markers",
         "name": "9B2D",
         "type": "scatter",
         "x": [
          923184448,
          923189526,
          923191434,
          923195911,
          923212236,
          923194621,
          923189318,
          923205591,
          923202844,
          923210823,
          923201394,
          923216114,
          923193014,
          923210504,
          923206574,
          923206519,
          923205017,
          923199730,
          923209816,
          923196311,
          923189725,
          923201017,
          923215131,
          923197412,
          923205929,
          923190107,
          923205725,
          923191329,
          923206928,
          923202041,
          923219441
         ],
         "y": [
          "-135.00",
          "-134.00",
          "-136.00",
          "-135.00",
          "-137.00",
          "-132.00",
          "-134.00",
          "-133.00",
          "-135.00",
          "-138.00",
          "-137.00",
          "-137.00",
          "-134.00",
          "-135.00",
          "-134.00",
          "-132.00",
          "-135.00",
          "-136.00",
          "-137.00",
          "-134.00",
          "-133.00",
          "-134.00",
          "-136.00",
          "-134.00",
          "-134.00",
          "-134.00",
          "-133.00",
          "-134.00",
          "-134.00",
          "-134.00",
          "-133.00"
         ]
        },
        {
         "mode": "markers",
         "name": "8CC0",
         "type": "scatter",
         "x": [
          923195016,
          923190226,
          923205036
         ],
         "y": [
          "-145.00",
          "-144.00",
          "-145.00"
         ]
        },
        {
         "mode": "markers",
         "name": "5142",
         "type": "scatter",
         "x": [
          923200604,
          923214701
         ],
         "y": [
          "-120.00",
          "-122.00"
         ]
        },
        {
         "mode": "markers",
         "name": "95FB",
         "type": "scatter",
         "x": [
          923200660
         ],
         "y": [
          "-125.00"
         ]
        },
        {
         "mode": "markers",
         "name": "586D",
         "type": "scatter",
         "x": [
          923206872,
          923208971
         ],
         "y": [
          "-102.00",
          "-101.00"
         ]
        },
        {
         "mode": "markers",
         "name": "587E",
         "type": "scatter",
         "x": [
          923206982,
          923215083
         ],
         "y": [
          "-105.00",
          "-105.00"
         ]
        },
        {
         "mode": "markers",
         "name": "4FBE",
         "type": "scatter",
         "x": [
          923206601,
          923214703
         ],
         "y": [
          "-129.00",
          "-124.00"
         ]
        },
        {
         "mode": "markers",
         "name": "5104",
         "type": "scatter",
         "x": [
          923206564,
          923214666
         ],
         "y": [
          "-118.00",
          "-116.00"
         ]
        },
        {
         "mode": "markers",
         "name": "511C",
         "type": "scatter",
         "x": [
          923206698,
          923202794
         ],
         "y": [
          "-128.00",
          "-125.00"
         ]
        },
        {
         "mode": "markers",
         "name": "50CE",
         "type": "scatter",
         "x": [
          923206642,
          923214743
         ],
         "y": [
          "-119.00",
          "-117.00"
         ]
        },
        {
         "mode": "markers",
         "name": "9923",
         "type": "scatter",
         "x": [
          923206603,
          923214702
         ],
         "y": [
          "-125.00",
          "-124.00"
         ]
        },
        {
         "mode": "markers",
         "name": "9AA2",
         "type": "scatter",
         "x": [
          923206661
         ],
         "y": [
          "-128.00"
         ]
        },
        {
         "mode": "markers",
         "name": "5848",
         "type": "scatter",
         "x": [
          923206615,
          923214715
         ],
         "y": [
          "-135.00",
          "-134.00"
         ]
        },
        {
         "mode": "markers",
         "name": "7E75",
         "type": "scatter",
         "x": [
          923207036,
          923215137
         ],
         "y": [
          "-130.00",
          "-126.00"
         ]
        },
        {
         "mode": "markers",
         "name": "86F3",
         "type": "scatter",
         "x": [
          923206448,
          923202544
         ],
         "y": [
          "-122.00",
          "-121.00"
         ]
        },
        {
         "mode": "markers",
         "name": "8DB8",
         "type": "scatter",
         "x": [
          923207154,
          923209253
         ],
         "y": [
          "-135.00",
          "-135.00"
         ]
        },
        {
         "mode": "markers",
         "name": "898A",
         "type": "scatter",
         "x": [
          923206619,
          923214722
         ],
         "y": [
          "-127.00",
          "-126.00"
         ]
        },
        {
         "mode": "markers",
         "name": "5148",
         "type": "scatter",
         "x": [
          923206653,
          923202749
         ],
         "y": [
          "-136.00",
          "-134.00"
         ]
        },
        {
         "mode": "markers",
         "name": "87BB",
         "type": "scatter",
         "x": [
          923194308,
          923214408
         ],
         "y": [
          "-118.00",
          "-117.00"
         ]
        },
        {
         "mode": "markers",
         "name": "5890",
         "type": "scatter",
         "x": [
          923194594,
          923208691
         ],
         "y": [
          "-139.00",
          "-137.00"
         ]
        },
        {
         "mode": "markers",
         "name": "512F",
         "type": "scatter",
         "x": [
          923208776
         ],
         "y": [
          "-134.00"
         ]
        },
        {
         "mode": "markers",
         "name": "513E",
         "type": "scatter",
         "x": [
          923208618
         ],
         "y": [
          "-132.00"
         ]
        },
        {
         "mode": "markers",
         "name": "58DE",
         "type": "scatter",
         "x": [
          923208632
         ],
         "y": [
          "-124.00"
         ]
        },
        {
         "mode": "markers",
         "name": "897C",
         "type": "scatter",
         "x": [
          923202586
         ],
         "y": [
          "-128.00"
         ]
        },
        {
         "mode": "markers",
         "name": "5761",
         "type": "scatter",
         "x": [
          923208815
         ],
         "y": [
          "-131.00"
         ]
        },
        {
         "mode": "markers",
         "name": "5106",
         "type": "scatter",
         "x": [
          923214706
         ],
         "y": [
          "-131.00"
         ]
        },
        {
         "mode": "markers",
         "name": "5842",
         "type": "scatter",
         "x": [
          923202713
         ],
         "y": [
          "-132.00"
         ]
        },
        {
         "mode": "markers",
         "name": "4FBD",
         "type": "scatter",
         "x": [
          923202769
         ],
         "y": [
          "-139.00"
         ]
        }
       ],
       "layout": {
        "shapes": [
         {
          "line": {
           "color": "rgb(55, 128, 191)",
           "width": 1
          },
          "type": "line",
          "x0": 923200000,
          "x1": 923200000,
          "y0": -96,
          "y1": -150
         }
        ],
        "xaxis": {
         "range": [
          923182000,
          923218000
         ]
        }
       }
      },
      "text/html": [
       "<div id=\"94746da9-53c5-469b-80ef-19d0fa80e4c6\" style=\"height: 525px; width: 100%;\" class=\"plotly-graph-div\"></div><script type=\"text/javascript\">require([\"plotly\"], function(Plotly) { window.PLOTLYENV=window.PLOTLYENV || {};window.PLOTLYENV.BASE_URL=\"https://plot.ly\";Plotly.newPlot(\"94746da9-53c5-469b-80ef-19d0fa80e4c6\", [{\"type\": \"scatter\", \"x\": [923189534, 923195175, 923190512, 923208013, 923199279, 923208044, 923206287, 923213116, 923204808, 923201882, 923194609, 923206243, 923196130, 923194539, 923197699, 923194049, 923205606, 923187645, 923198717, 923208892, 923201276, 923182718, 923212666, 923202161, 923196556, 923193616, 923207326, 923205022, 923189288, 923210820, 923202794, 923205847, 923202160, 923206948, 923206346, 923212645], \"y\": [\"-128.00\", \"-131.00\", \"-131.00\", \"-132.00\", \"-129.00\", \"-132.00\", \"-129.00\", \"-129.00\", \"-129.00\", \"-133.00\", \"-134.00\", \"-130.00\", \"-133.00\", \"-130.00\", \"-131.00\", \"-130.00\", \"-131.00\", \"-128.00\", \"-132.00\", \"-132.00\", \"-133.00\", \"-132.00\", \"-131.00\", \"-129.00\", \"-129.00\", \"-131.00\", \"-130.00\", \"-133.00\", \"-130.00\", \"-132.00\", \"-132.00\", \"-132.00\", \"-133.00\", \"-132.00\", \"-130.00\", \"-133.00\"], \"mode\": \"markers\", \"name\": \"8F00\"}, {\"type\": \"scatter\", \"x\": [923184075, 923189177, 923191053, 923195630, 923205819, 923188475, 923188953, 923212893, 923207669, 923205340, 923208454, 923195103, 923206762, 923198627, 923195130, 923203802, 923202744, 923204203, 923206387, 923199268, 923202102, 923183309, 923202703, 923189884, 923194170, 923207846, 923217384, 923206445, 923202720, 923207629, 923207027, 923201331], \"y\": [\"-132.00\", \"-133.00\", \"-132.00\", \"-133.00\", \"-133.00\", \"-134.00\", \"-131.00\", \"-132.00\", \"-136.00\", \"-137.00\", \"-131.00\", \"-134.00\", \"-130.00\", \"-132.00\", \"-132.00\", \"-132.00\", \"-131.00\", \"-131.00\", \"-132.00\", \"-134.00\", \"-133.00\", \"-131.00\", \"-133.00\", \"-132.00\", \"-133.00\", \"-133.00\", \"-135.00\", \"-134.00\", \"-132.00\", \"-132.00\", \"-130.00\", \"-133.00\"], \"mode\": \"markers\", \"name\": \"8A22\"}, {\"type\": \"scatter\", \"x\": [923184448, 923189526, 923191434, 923195911, 923212236, 923194621, 923189318, 923205591, 923202844, 923210823, 923201394, 923216114, 923193014, 923210504, 923206574, 923206519, 923205017, 923199730, 923209816, 923196311, 923189725, 923201017, 923215131, 923197412, 923205929, 923190107, 923205725, 923191329, 923206928, 923202041, 923219441], \"y\": [\"-135.00\", \"-134.00\", \"-136.00\", \"-135.00\", \"-137.00\", \"-132.00\", \"-134.00\", \"-133.00\", \"-135.00\", \"-138.00\", \"-137.00\", \"-137.00\", \"-134.00\", \"-135.00\", \"-134.00\", \"-132.00\", \"-135.00\", \"-136.00\", \"-137.00\", \"-134.00\", \"-133.00\", \"-134.00\", \"-136.00\", \"-134.00\", \"-134.00\", \"-134.00\", \"-133.00\", \"-134.00\", \"-134.00\", \"-134.00\", \"-133.00\"], \"mode\": \"markers\", \"name\": \"9B2D\"}, {\"type\": \"scatter\", \"x\": [923195016, 923190226, 923205036], \"y\": [\"-145.00\", \"-144.00\", \"-145.00\"], \"mode\": \"markers\", \"name\": \"8CC0\"}, {\"type\": \"scatter\", \"x\": [923200604, 923214701], \"y\": [\"-120.00\", \"-122.00\"], \"mode\": \"markers\", \"name\": \"5142\"}, {\"type\": \"scatter\", \"x\": [923200660], \"y\": [\"-125.00\"], \"mode\": \"markers\", \"name\": \"95FB\"}, {\"type\": \"scatter\", \"x\": [923206872, 923208971], \"y\": [\"-102.00\", \"-101.00\"], \"mode\": \"markers\", \"name\": \"586D\"}, {\"type\": \"scatter\", \"x\": [923206982, 923215083], \"y\": [\"-105.00\", \"-105.00\"], \"mode\": \"markers\", \"name\": \"587E\"}, {\"type\": \"scatter\", \"x\": [923206601, 923214703], \"y\": [\"-129.00\", \"-124.00\"], \"mode\": \"markers\", \"name\": \"4FBE\"}, {\"type\": \"scatter\", \"x\": [923206564, 923214666], \"y\": [\"-118.00\", \"-116.00\"], \"mode\": \"markers\", \"name\": \"5104\"}, {\"type\": \"scatter\", \"x\": [923206698, 923202794], \"y\": [\"-128.00\", \"-125.00\"], \"mode\": \"markers\", \"name\": \"511C\"}, {\"type\": \"scatter\", \"x\": [923206642, 923214743], \"y\": [\"-119.00\", \"-117.00\"], \"mode\": \"markers\", \"name\": \"50CE\"}, {\"type\": \"scatter\", \"x\": [923206603, 923214702], \"y\": [\"-125.00\", \"-124.00\"], \"mode\": \"markers\", \"name\": \"9923\"}, {\"type\": \"scatter\", \"x\": [923206661], \"y\": [\"-128.00\"], \"mode\": \"markers\", \"name\": \"9AA2\"}, {\"type\": \"scatter\", \"x\": [923206615, 923214715], \"y\": [\"-135.00\", \"-134.00\"], \"mode\": \"markers\", \"name\": \"5848\"}, {\"type\": \"scatter\", \"x\": [923207036, 923215137], \"y\": [\"-130.00\", \"-126.00\"], \"mode\": \"markers\", \"name\": \"7E75\"}, {\"type\": \"scatter\", \"x\": [923206448, 923202544], \"y\": [\"-122.00\", \"-121.00\"], \"mode\": \"markers\", \"name\": \"86F3\"}, {\"type\": \"scatter\", \"x\": [923207154, 923209253], \"y\": [\"-135.00\", \"-135.00\"], \"mode\": \"markers\", \"name\": \"8DB8\"}, {\"type\": \"scatter\", \"x\": [923206619, 923214722], \"y\": [\"-127.00\", \"-126.00\"], \"mode\": \"markers\", \"name\": \"898A\"}, {\"type\": \"scatter\", \"x\": [923206653, 923202749], \"y\": [\"-136.00\", \"-134.00\"], \"mode\": \"markers\", \"name\": \"5148\"}, {\"type\": \"scatter\", \"x\": [923194308, 923214408], \"y\": [\"-118.00\", \"-117.00\"], \"mode\": \"markers\", \"name\": \"87BB\"}, {\"type\": \"scatter\", \"x\": [923194594, 923208691], \"y\": [\"-139.00\", \"-137.00\"], \"mode\": \"markers\", \"name\": \"5890\"}, {\"type\": \"scatter\", \"x\": [923208776], \"y\": [\"-134.00\"], \"mode\": \"markers\", \"name\": \"512F\"}, {\"type\": \"scatter\", \"x\": [923208618], \"y\": [\"-132.00\"], \"mode\": \"markers\", \"name\": \"513E\"}, {\"type\": \"scatter\", \"x\": [923208632], \"y\": [\"-124.00\"], \"mode\": \"markers\", \"name\": \"58DE\"}, {\"type\": \"scatter\", \"x\": [923202586], \"y\": [\"-128.00\"], \"mode\": \"markers\", \"name\": \"897C\"}, {\"type\": \"scatter\", \"x\": [923208815], \"y\": [\"-131.00\"], \"mode\": \"markers\", \"name\": \"5761\"}, {\"type\": \"scatter\", \"x\": [923214706], \"y\": [\"-131.00\"], \"mode\": \"markers\", \"name\": \"5106\"}, {\"type\": \"scatter\", \"x\": [923202713], \"y\": [\"-132.00\"], \"mode\": \"markers\", \"name\": \"5842\"}, {\"type\": \"scatter\", \"x\": [923202769], \"y\": [\"-139.00\"], \"mode\": \"markers\", \"name\": \"4FBD\"}], {\"xaxis\": {\"range\": [923182000, 923218000]}, \"shapes\": [{\"type\": \"line\", \"x0\": 923200000, \"y0\": -96.0, \"x1\": 923200000, \"y1\": -150.0, \"line\": {\"color\": \"rgb(55, 128, 191)\", \"width\": 1}}]}, {\"showLink\": true, \"linkText\": \"Export to plot.ly\"})});</script>"
      ],
      "text/vnd.plotly.v1+html": [
       "<div id=\"94746da9-53c5-469b-80ef-19d0fa80e4c6\" style=\"height: 525px; width: 100%;\" class=\"plotly-graph-div\"></div><script type=\"text/javascript\">require([\"plotly\"], function(Plotly) { window.PLOTLYENV=window.PLOTLYENV || {};window.PLOTLYENV.BASE_URL=\"https://plot.ly\";Plotly.newPlot(\"94746da9-53c5-469b-80ef-19d0fa80e4c6\", [{\"type\": \"scatter\", \"x\": [923189534, 923195175, 923190512, 923208013, 923199279, 923208044, 923206287, 923213116, 923204808, 923201882, 923194609, 923206243, 923196130, 923194539, 923197699, 923194049, 923205606, 923187645, 923198717, 923208892, 923201276, 923182718, 923212666, 923202161, 923196556, 923193616, 923207326, 923205022, 923189288, 923210820, 923202794, 923205847, 923202160, 923206948, 923206346, 923212645], \"y\": [\"-128.00\", \"-131.00\", \"-131.00\", \"-132.00\", \"-129.00\", \"-132.00\", \"-129.00\", \"-129.00\", \"-129.00\", \"-133.00\", \"-134.00\", \"-130.00\", \"-133.00\", \"-130.00\", \"-131.00\", \"-130.00\", \"-131.00\", \"-128.00\", \"-132.00\", \"-132.00\", \"-133.00\", \"-132.00\", \"-131.00\", \"-129.00\", \"-129.00\", \"-131.00\", \"-130.00\", \"-133.00\", \"-130.00\", \"-132.00\", \"-132.00\", \"-132.00\", \"-133.00\", \"-132.00\", \"-130.00\", \"-133.00\"], \"mode\": \"markers\", \"name\": \"8F00\"}, {\"type\": \"scatter\", \"x\": [923184075, 923189177, 923191053, 923195630, 923205819, 923188475, 923188953, 923212893, 923207669, 923205340, 923208454, 923195103, 923206762, 923198627, 923195130, 923203802, 923202744, 923204203, 923206387, 923199268, 923202102, 923183309, 923202703, 923189884, 923194170, 923207846, 923217384, 923206445, 923202720, 923207629, 923207027, 923201331], \"y\": [\"-132.00\", \"-133.00\", \"-132.00\", \"-133.00\", \"-133.00\", \"-134.00\", \"-131.00\", \"-132.00\", \"-136.00\", \"-137.00\", \"-131.00\", \"-134.00\", \"-130.00\", \"-132.00\", \"-132.00\", \"-132.00\", \"-131.00\", \"-131.00\", \"-132.00\", \"-134.00\", \"-133.00\", \"-131.00\", \"-133.00\", \"-132.00\", \"-133.00\", \"-133.00\", \"-135.00\", \"-134.00\", \"-132.00\", \"-132.00\", \"-130.00\", \"-133.00\"], \"mode\": \"markers\", \"name\": \"8A22\"}, {\"type\": \"scatter\", \"x\": [923184448, 923189526, 923191434, 923195911, 923212236, 923194621, 923189318, 923205591, 923202844, 923210823, 923201394, 923216114, 923193014, 923210504, 923206574, 923206519, 923205017, 923199730, 923209816, 923196311, 923189725, 923201017, 923215131, 923197412, 923205929, 923190107, 923205725, 923191329, 923206928, 923202041, 923219441], \"y\": [\"-135.00\", \"-134.00\", \"-136.00\", \"-135.00\", \"-137.00\", \"-132.00\", \"-134.00\", \"-133.00\", \"-135.00\", \"-138.00\", \"-137.00\", \"-137.00\", \"-134.00\", \"-135.00\", \"-134.00\", \"-132.00\", \"-135.00\", \"-136.00\", \"-137.00\", \"-134.00\", \"-133.00\", \"-134.00\", \"-136.00\", \"-134.00\", \"-134.00\", \"-134.00\", \"-133.00\", \"-134.00\", \"-134.00\", \"-134.00\", \"-133.00\"], \"mode\": \"markers\", \"name\": \"9B2D\"}, {\"type\": \"scatter\", \"x\": [923195016, 923190226, 923205036], \"y\": [\"-145.00\", \"-144.00\", \"-145.00\"], \"mode\": \"markers\", \"name\": \"8CC0\"}, {\"type\": \"scatter\", \"x\": [923200604, 923214701], \"y\": [\"-120.00\", \"-122.00\"], \"mode\": \"markers\", \"name\": \"5142\"}, {\"type\": \"scatter\", \"x\": [923200660], \"y\": [\"-125.00\"], \"mode\": \"markers\", \"name\": \"95FB\"}, {\"type\": \"scatter\", \"x\": [923206872, 923208971], \"y\": [\"-102.00\", \"-101.00\"], \"mode\": \"markers\", \"name\": \"586D\"}, {\"type\": \"scatter\", \"x\": [923206982, 923215083], \"y\": [\"-105.00\", \"-105.00\"], \"mode\": \"markers\", \"name\": \"587E\"}, {\"type\": \"scatter\", \"x\": [923206601, 923214703], \"y\": [\"-129.00\", \"-124.00\"], \"mode\": \"markers\", \"name\": \"4FBE\"}, {\"type\": \"scatter\", \"x\": [923206564, 923214666], \"y\": [\"-118.00\", \"-116.00\"], \"mode\": \"markers\", \"name\": \"5104\"}, {\"type\": \"scatter\", \"x\": [923206698, 923202794], \"y\": [\"-128.00\", \"-125.00\"], \"mode\": \"markers\", \"name\": \"511C\"}, {\"type\": \"scatter\", \"x\": [923206642, 923214743], \"y\": [\"-119.00\", \"-117.00\"], \"mode\": \"markers\", \"name\": \"50CE\"}, {\"type\": \"scatter\", \"x\": [923206603, 923214702], \"y\": [\"-125.00\", \"-124.00\"], \"mode\": \"markers\", \"name\": \"9923\"}, {\"type\": \"scatter\", \"x\": [923206661], \"y\": [\"-128.00\"], \"mode\": \"markers\", \"name\": \"9AA2\"}, {\"type\": \"scatter\", \"x\": [923206615, 923214715], \"y\": [\"-135.00\", \"-134.00\"], \"mode\": \"markers\", \"name\": \"5848\"}, {\"type\": \"scatter\", \"x\": [923207036, 923215137], \"y\": [\"-130.00\", \"-126.00\"], \"mode\": \"markers\", \"name\": \"7E75\"}, {\"type\": \"scatter\", \"x\": [923206448, 923202544], \"y\": [\"-122.00\", \"-121.00\"], \"mode\": \"markers\", \"name\": \"86F3\"}, {\"type\": \"scatter\", \"x\": [923207154, 923209253], \"y\": [\"-135.00\", \"-135.00\"], \"mode\": \"markers\", \"name\": \"8DB8\"}, {\"type\": \"scatter\", \"x\": [923206619, 923214722], \"y\": [\"-127.00\", \"-126.00\"], \"mode\": \"markers\", \"name\": \"898A\"}, {\"type\": \"scatter\", \"x\": [923206653, 923202749], \"y\": [\"-136.00\", \"-134.00\"], \"mode\": \"markers\", \"name\": \"5148\"}, {\"type\": \"scatter\", \"x\": [923194308, 923214408], \"y\": [\"-118.00\", \"-117.00\"], \"mode\": \"markers\", \"name\": \"87BB\"}, {\"type\": \"scatter\", \"x\": [923194594, 923208691], \"y\": [\"-139.00\", \"-137.00\"], \"mode\": \"markers\", \"name\": \"5890\"}, {\"type\": \"scatter\", \"x\": [923208776], \"y\": [\"-134.00\"], \"mode\": \"markers\", \"name\": \"512F\"}, {\"type\": \"scatter\", \"x\": [923208618], \"y\": [\"-132.00\"], \"mode\": \"markers\", \"name\": \"513E\"}, {\"type\": \"scatter\", \"x\": [923208632], \"y\": [\"-124.00\"], \"mode\": \"markers\", \"name\": \"58DE\"}, {\"type\": \"scatter\", \"x\": [923202586], \"y\": [\"-128.00\"], \"mode\": \"markers\", \"name\": \"897C\"}, {\"type\": \"scatter\", \"x\": [923208815], \"y\": [\"-131.00\"], \"mode\": \"markers\", \"name\": \"5761\"}, {\"type\": \"scatter\", \"x\": [923214706], \"y\": [\"-131.00\"], \"mode\": \"markers\", \"name\": \"5106\"}, {\"type\": \"scatter\", \"x\": [923202713], \"y\": [\"-132.00\"], \"mode\": \"markers\", \"name\": \"5842\"}, {\"type\": \"scatter\", \"x\": [923202769], \"y\": [\"-139.00\"], \"mode\": \"markers\", \"name\": \"4FBD\"}], {\"xaxis\": {\"range\": [923182000, 923218000]}, \"shapes\": [{\"type\": \"line\", \"x0\": 923200000, \"y0\": -96.0, \"x1\": 923200000, \"y1\": -150.0, \"line\": {\"color\": \"rgb(55, 128, 191)\", \"width\": 1}}]}, {\"showLink\": true, \"linkText\": \"Export to plot.ly\"})});</script>"
      ]
     },
     "metadata": {},
     "output_type": "display_data"
    }
   ],
   "source": [
    "iplot(fig)"
   ]
  }
 ],
 "metadata": {
  "kernelspec": {
   "display_name": "Python 3",
   "language": "python",
   "name": "python3"
  },
  "language_info": {
   "codemirror_mode": {
    "name": "ipython",
    "version": 3
   },
   "file_extension": ".py",
   "mimetype": "text/x-python",
   "name": "python",
   "nbconvert_exporter": "python",
   "pygments_lexer": "ipython3",
   "version": "3.6.4"
  }
 },
 "nbformat": 4,
 "nbformat_minor": 2
}
